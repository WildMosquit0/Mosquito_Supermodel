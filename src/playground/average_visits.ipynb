{
 "cells": [
  {
   "cell_type": "code",
   "execution_count": null,
   "metadata": {},
   "outputs": [],
   "source": []
  },
  {
   "cell_type": "code",
   "execution_count": null,
   "metadata": {},
   "outputs": [],
   "source": [
    "import os\n",
    "import cv2\n",
    "import pandas as pd\n",
    "import torch\n",
    "import json\n",
    "from ultralytics import YOLO\n",
    "from datetime import datetime\n",
    "\n",
    "\n",
    "class average_visits:\n",
    "    def __init__(self, config_path: str):\n",
    "        \"\"\"\n",
    "        Initialize the Tracker with a configuration file.\n",
    "        Args:\n",
    "            config_path (str): Path to the JSON configuration file.\n",
    "        \"\"\"\n",
    "        # Load configuration\n",
    "        with open(config_path, \"r\") as config_file:\n",
    "            self.config = json.load(config_file)\n",
    "\n",
    "        self.data= os.path.join(self.config['analize'][\"data\"], 'results.csv')\n",
    "        self.datapath = self.config[\"model\"][\"weights\"]\n",
    "        self.time_intervals = self.config[\"model\"][\"conf_threshold\"]\n",
    "        self.fps = self.config[\"model\"][\"iou_threshold\"]\n",
    "\n",
    "        self.plotpath = self.config[\"analize\"][\"output_dir\"]\n",
    "        \n",
    "    def get_df(data = self.data):\n",
    "        df = self.data\n",
    "        return df\n",
    "\n",
    "\n",
    "    def calculate_frames_per_interval(df,):\n",
    "        \n",
    "        Calculate the number of frames per time interval.\n",
    "        create new col in df, represents time intervals\n",
    "        return df\n",
    "\n",
    "    def get_trajs_for_interval(df):\n",
    "        create new df, which writes how many trajectories were in every interval.\n",
    "        take also vid name\n",
    "        return new_df\n",
    "\n",
    "    def plot_the_results(new_df)):\n",
    "        plot the results with plotnine (barplot with scatter plots)\n",
    "        save (plotnine.save) in output_path = os.path.join(self.plotpath, 'average_visits.png')\n",
    "\n",
    "    def __call__:\n",
    "        df = self.get_df()\n",
    "        df = self.calculate_frames_per_interval(df)\n",
    "        new_df = self.get_trajs_for_interval(df)\n",
    "        self.plot_the_results(new_df)\n",
    "\n"
   ]
  }
 ],
 "metadata": {
  "kernelspec": {
   "display_name": "sp",
   "language": "python",
   "name": "python3"
  },
  "language_info": {
   "codemirror_mode": {
    "name": "ipython",
    "version": 3
   },
   "file_extension": ".py",
   "mimetype": "text/x-python",
   "name": "python",
   "nbconvert_exporter": "python",
   "pygments_lexer": "ipython3",
   "version": "3.12.4"
  }
 },
 "nbformat": 4,
 "nbformat_minor": 2
}
