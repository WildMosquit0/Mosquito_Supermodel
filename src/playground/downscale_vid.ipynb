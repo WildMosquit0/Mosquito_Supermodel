{
 "cells": [
  {
   "cell_type": "code",
   "execution_count": 1,
   "metadata": {},
   "outputs": [
    {
     "name": "stdout",
     "output_type": "stream",
     "text": [
      "Resizing video from 1280x720 to 768x432...\n",
      "Video has been resized and saved to /home/wildmosquit0/git/Mosquito_Supermodel/runs/predict/exp12/2021-10-22_16-35-35_cropped_low_res.mp4.\n"
     ]
    }
   ],
   "source": [
    "import cv2\n",
    "\n",
    "# Input and output paths\n",
    "input_video_path =  \"/home/wildmosquit0/git/Mosquito_Supermodel/runs/predict/exp12/2021-10-22_16-35-35_cropped_m.mp4\" # Replace with your video file path\n",
    "output_video_path = \"/home/wildmosquit0/git/Mosquito_Supermodel/runs/predict/exp12/2021-10-22_16-35-35_cropped_low_res.mp4\"\n",
    "scale_factor = 0.6 # Set scaling factor (e.g., 0.5 to reduce size by half)\n",
    "\n",
    "# Open the video file\n",
    "cap = cv2.VideoCapture(input_video_path)\n",
    "\n",
    "# Check if video opened successfully\n",
    "if not cap.isOpened():\n",
    "    print(\"Error: Cannot open video file.\")\n",
    "    exit()\n",
    "\n",
    "# Get original video properties\n",
    "original_width = int(cap.get(cv2.CAP_PROP_FRAME_WIDTH))\n",
    "original_height = int(cap.get(cv2.CAP_PROP_FRAME_HEIGHT))\n",
    "fps = cap.get(cv2.CAP_PROP_FPS)\n",
    "frame_count = int(cap.get(cv2.CAP_PROP_FRAME_COUNT))\n",
    "\n",
    "# Compute new dimensions\n",
    "new_width = int(original_width * scale_factor)\n",
    "new_height = int(original_height * scale_factor)\n",
    "\n",
    "# Define the codec and create VideoWriter object\n",
    "fourcc = cv2.VideoWriter_fourcc(*'mp4v')  # Codec for .mp4 format\n",
    "out = cv2.VideoWriter(output_video_path, fourcc, fps, (new_width, new_height))\n",
    "\n",
    "print(f\"Resizing video from {original_width}x{original_height} to {new_width}x{new_height}...\")\n",
    "\n",
    "# Process each frame\n",
    "while cap.isOpened():\n",
    "    ret, frame = cap.read()\n",
    "    if not ret:\n",
    "        break\n",
    "\n",
    "    # Resize the frame\n",
    "    resized_frame = cv2.resize(frame, (new_width, new_height), interpolation=cv2.INTER_AREA)\n",
    "\n",
    "    # Write the resized frame to the output video\n",
    "    out.write(resized_frame)\n",
    "\n",
    "# Release resources\n",
    "cap.release()\n",
    "out.release()\n",
    "\n",
    "print(f\"Video has been resized and saved to {output_video_path}.\")\n"
   ]
  },
  {
   "cell_type": "code",
   "execution_count": null,
   "metadata": {},
   "outputs": [],
   "source": [
    "# Input and output paths\n",
    "input_video_path = 'input_video.mp4'  # Replace with your video file path\n",
    "output_video_path = 'output_video.mp4'\n",
    "scale_factor = 0.5  # Set scaling factor (e.g., 0.5 to reduce size by half)"
   ]
  },
  {
   "cell_type": "markdown",
   "metadata": {},
   "source": []
  },
  {
   "cell_type": "code",
   "execution_count": 3,
   "metadata": {},
   "outputs": [
    {
     "name": "stdout",
     "output_type": "stream",
     "text": [
      "Video processing complete. Saved as /home/bohbot/Evyatar/exp/Joni_showoff/predict/BF_640X2.mp4\n"
     ]
    }
   ],
   "source": [
    "import cv2\n",
    "import os\n",
    "\n",
    "def speed_up_video(input_path, output_path, speed_factor=2):\n",
    "    # Open the video file\n",
    "    cap = cv2.VideoCapture(input_path)\n",
    "    \n",
    "    if not cap.isOpened():\n",
    "        print(\"Error: Cannot open video file.\")\n",
    "        return\n",
    "    \n",
    "    # Get original video properties\n",
    "    fps = int(cap.get(cv2.CAP_PROP_FPS))\n",
    "    width = int(cap.get(cv2.CAP_PROP_FRAME_WIDTH))\n",
    "    height = int(cap.get(cv2.CAP_PROP_FRAME_HEIGHT))\n",
    "    frame_count = int(cap.get(cv2.CAP_PROP_FRAME_COUNT))\n",
    "    \n",
    "    # Define codec and create VideoWriter object\n",
    "    fourcc = cv2.VideoWriter_fourcc(*'mp4v')  # Change codec if needed\n",
    "    out = cv2.VideoWriter(output_path, fourcc, fps * speed_factor, (width, height))\n",
    "    \n",
    "    frame_idx = 0\n",
    "    while True:\n",
    "        ret, frame = cap.read()\n",
    "        if not ret:\n",
    "            break\n",
    "        \n",
    "        # Write every second frame to double the speed\n",
    "        if frame_idx % speed_factor == 0:\n",
    "            out.write(frame)\n",
    "        \n",
    "        frame_idx += 1\n",
    "    \n",
    "    # Release everything\n",
    "    cap.release()\n",
    "    out.release()\n",
    "    cv2.destroyAllWindows()\n",
    "    print(f\"Video processing complete. Saved as {output_path}\")\n",
    "\n",
    "# Example usage\n",
    "input_video = \"/home/bohbot/Evyatar/exp/Joni_showoff/predict/BF_640.mp4\"  # Replace with actual video file path\n",
    "output_video = \"/home/bohbot/Evyatar/exp/Joni_showoff/predict/BF_640X2.mp4\"  # Output file name\n",
    "speed_up_video(input_video, output_video)\n"
   ]
  },
  {
   "cell_type": "code",
   "execution_count": null,
   "metadata": {},
   "outputs": [],
   "source": []
  }
 ],
 "metadata": {
  "kernelspec": {
   "display_name": "super_model",
   "language": "python",
   "name": "python3"
  },
  "language_info": {
   "codemirror_mode": {
    "name": "ipython",
    "version": 3
   },
   "file_extension": ".py",
   "mimetype": "text/x-python",
   "name": "python",
   "nbconvert_exporter": "python",
   "pygments_lexer": "ipython3",
   "version": "3.10.15"
  }
 },
 "nbformat": 4,
 "nbformat_minor": 2
}
