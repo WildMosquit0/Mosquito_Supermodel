{
 "cells": [
  {
   "cell_type": "code",
   "execution_count": 49,
   "metadata": {},
   "outputs": [],
   "source": [
    "import cv2\n",
    "import os\n",
    "import argparse\n",
    "\n",
    "def crop_video(input_file, position, duration):\n",
    "    cap = cv2.VideoCapture(input_file)\n",
    "    fps = int(cap.get(cv2.CAP_PROP_FPS))\n",
    "    total_frames = int(cap.get(cv2.CAP_PROP_FRAME_COUNT))\n",
    "    total_duration = total_frames / fps\n",
    "    duration_sec = duration * 60\n",
    "    recoding_frames = int(duration_sec * fps)  # Ensure it's an integer\n",
    "\n",
    "    if position == \"b\":\n",
    "        start_frame = 0\n",
    "    elif position == \"m\":\n",
    "        start_frame = int((total_duration / 2 - duration_sec / 2) * fps)\n",
    "    elif position == \"e\":\n",
    "        start_frame = total_frames - recoding_frames  # Fixed\n",
    "    else:\n",
    "        raise ValueError(\"Invalid position. Choose from 'b', 'm', or 'e'.\")\n",
    "    \n",
    "    root = os.path.dirname(input_file)\n",
    "    base = os.path.basename(input_file).split('.')[0]\n",
    "    \n",
    "\n",
    "    output_file = f\"{root}/{base}_cropped_{position}.mp4\"     \n",
    "    \n",
    "    fourcc = cv2.VideoWriter_fourcc(*'mp4v')\n",
    "    out = cv2.VideoWriter(output_file, fourcc, fps, \n",
    "                          (int(cap.get(cv2.CAP_PROP_FRAME_WIDTH)), int(cap.get(cv2.CAP_PROP_FRAME_HEIGHT))))\n",
    "    \n",
    "    cap.set(cv2.CAP_PROP_POS_FRAMES, start_frame)\n",
    "    \n",
    "    frame_count = 0\n",
    "    while cap.isOpened():\n",
    "        ret, frame = cap.read()\n",
    "        if not ret or frame_count >= recoding_frames:\n",
    "            break\n",
    "        out.write(frame)\n",
    "        frame_count += 1\n",
    "    \n",
    "    cap.release()\n",
    "    out.release()\n",
    "    print(f\"Cropped video saved as {output_file}\")\n",
    "\n"
   ]
  },
  {
   "cell_type": "code",
   "execution_count": 51,
   "metadata": {},
   "outputs": [
    {
     "name": "stdout",
     "output_type": "stream",
     "text": [
      "Cropped video saved as /home/wildmosquit0/git/model_exp/peers/20240304_1_cropped_b.mp4\n"
     ]
    }
   ],
   "source": [
    "input_file = \"/home/wildmosquit0/git/model_exp/peers/20240304_1.mp4\"\n",
    "position = \"b\"  # Choose from 'b','m', or 'e'\n",
    "duration = 0.5  # Duration in minutes\n",
    "crop_video(input_file, position, duration)"
   ]
  },
  {
   "cell_type": "code",
   "execution_count": 21,
   "metadata": {},
   "outputs": [],
   "source": [
    "root = os.path.(input_file)"
   ]
  },
  {
   "cell_type": "code",
   "execution_count": 32,
   "metadata": {},
   "outputs": [
    {
     "data": {
      "text/plain": [
       "'/home/wildmosquit0/git/model_exp/peers/2019-06-06_14-00-30_cropped_m.mp4'"
      ]
     },
     "execution_count": 32,
     "metadata": {},
     "output_type": "execute_result"
    }
   ],
   "source": [
    "root = os.path.dirname(input_file)\n",
    "base = os.path.basename(input_file).split('.')[0]\n",
    "f\"{root}/{base}_cropped_{position}.mp4\""
   ]
  },
  {
   "cell_type": "code",
   "execution_count": null,
   "metadata": {},
   "outputs": [],
   "source": []
  }
 ],
 "metadata": {
  "kernelspec": {
   "display_name": "sp39",
   "language": "python",
   "name": "python3"
  },
  "language_info": {
   "codemirror_mode": {
    "name": "ipython",
    "version": 3
   },
   "file_extension": ".py",
   "mimetype": "text/x-python",
   "name": "python",
   "nbconvert_exporter": "python",
   "pygments_lexer": "ipython3",
   "version": "3.9.21"
  }
 },
 "nbformat": 4,
 "nbformat_minor": 2
}
