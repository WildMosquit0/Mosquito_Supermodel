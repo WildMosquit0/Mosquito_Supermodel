{
 "cells": [
  {
   "cell_type": "code",
   "execution_count": 43,
   "metadata": {},
   "outputs": [],
   "source": [
    "import cv2\n",
    "import pandas as pd\n",
    "\n",
    "def create_annotated_video(df: pd.DataFrame, \n",
    "                           class_label: float,\n",
    "                           input_video_path: str,\n",
    "                           output_video_path: str):\n",
    "\n",
    "    \n",
    "    # Initialize video capture from the input file\n",
    "    cap = cv2.VideoCapture(input_video_path)\n",
    "    if not cap.isOpened():\n",
    "        print(f\"Could not open video file: {input_video_path}\")\n",
    "        return\n",
    "    \n",
    "    # Read video info\n",
    "    width  = int(cap.get(cv2.CAP_PROP_FRAME_WIDTH))\n",
    "    height = int(cap.get(cv2.CAP_PROP_FRAME_HEIGHT))\n",
    "    fps    = cap.get(cv2.CAP_PROP_FPS)\n",
    "    \n",
    "    # Create video writer\n",
    "    fourcc = cv2.VideoWriter_fourcc(*\"mp4v\")  # 'mp4v' for MP4 output\n",
    "    out = cv2.VideoWriter(output_video_path, fourcc, fps, (width, height))\n",
    "    \n",
    "    frame_idx = 0  # We'll match this with df['image_idx']\n",
    "    \n",
    "    while True:\n",
    "        ret, frame = cap.read()\n",
    "        if not ret:\n",
    "            break  # We've reached the end of the input video\n",
    "        \n",
    "        # Filter the DataFrame to bounding boxes for this frame and the desired class\n",
    "        frame_df = df[(df['image_idx'] == frame_idx) & (df['label'] == class_label)&(df['confidence'] > 0.3)]\n",
    "        \n",
    "        # Draw the bounding boxes\n",
    "        for _, row in frame_df.iterrows():                                         \n",
    "            conf    = row['confidence'] \n",
    "            x_center = row['x']   # normalized center\n",
    "            y_center = row['y']   # normalized center\n",
    "            w_norm   = row['w']   # normalized width\n",
    "            h_norm   = row['h']   # normalized height                       \n",
    "\n",
    "            # Convert normalized -> pixels\n",
    "            x1 = int( (x_center - w_norm/2) )\n",
    "            y1 = int( (y_center - h_norm/2)  )\n",
    "            x2 = int( (x_center + w_norm/2) )\n",
    "            y2 = int( (y_center + h_norm/2)  )\n",
    "            \n",
    "            # Draw a red rectangle\n",
    "            cv2.rectangle(frame, (x1, y1), (x2, y2), (0, 0, 255), 4)\n",
    "            \n",
    "            # Annotation text (bf + confidence)\n",
    "            text = f\"bf {conf:.2f}\"\n",
    "            cv2.putText(frame, text, (x1, max(0, y1 - 5)), \n",
    "                        cv2.FONT_HERSHEY_SIMPLEX, \n",
    "                        1,  # font scale\n",
    "                        (0, 0, 255), \n",
    "                        2,    # line thickness\n",
    "                        cv2.LINE_AA)\n",
    "        \n",
    "        # Write the annotated frame to the output video\n",
    "        out.write(frame)\n",
    "        \n",
    "        frame_idx += 1\n",
    "    \n",
    "    cap.release()\n",
    "    out.release()\n",
    "    print(f\"Annotated video saved as: {output_video_path}\")\n"
   ]
  },
  {
   "cell_type": "code",
   "execution_count": 44,
   "metadata": {},
   "outputs": [
    {
     "name": "stdout",
     "output_type": "stream",
     "text": [
      "Annotated video saved as: /home/bohbot/Evyatar/exp/Joni_showoff/predict/joni.mp4\n"
     ]
    }
   ],
   "source": [
    "import pandas as pd\n",
    "\n",
    "# First load the CSV file into a DataFrame\n",
    "df = pd.read_csv(\"/home/bohbot/Evyatar/exp/Joni_showoff/predict/results.csv\")\n",
    "\n",
    "# Then call your function, passing the actual DataFrame (df)\n",
    "create_annotated_video(\n",
    "    df,                       # <-- pass the DataFrame, not the CSV path\n",
    "    1,                        # class_label\n",
    "    \"/home/bohbot/Evyatar/exp/Joni_showoff/full movies/bf.mp4\", \n",
    "    \"/home/bohbot/Evyatar/exp/Joni_showoff/predict/joni.mp4\"\n",
    ")\n"
   ]
  },
  {
   "cell_type": "code",
   "execution_count": null,
   "metadata": {},
   "outputs": [],
   "source": []
  }
 ],
 "metadata": {
  "kernelspec": {
   "display_name": "super_model",
   "language": "python",
   "name": "python3"
  },
  "language_info": {
   "codemirror_mode": {
    "name": "ipython",
    "version": 3
   },
   "file_extension": ".py",
   "mimetype": "text/x-python",
   "name": "python",
   "nbconvert_exporter": "python",
   "pygments_lexer": "ipython3",
   "version": "3.10.15"
  }
 },
 "nbformat": 4,
 "nbformat_minor": 2
}
