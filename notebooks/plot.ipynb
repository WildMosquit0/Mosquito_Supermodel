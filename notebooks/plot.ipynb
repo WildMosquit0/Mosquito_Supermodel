{
 "cells": [
  {
   "cell_type": "code",
   "execution_count": 11,
   "metadata": {},
   "outputs": [
    {
     "data": {
      "text/plain": [
       "'/Users/evyatars/Documents/git/Mosquito_Supermodel/src/playground'"
      ]
     },
     "execution_count": 11,
     "metadata": {},
     "output_type": "execute_result"
    }
   ],
   "source": [
    "import os/n",
    "os.getcwd()"
   ]
  },
  {
   "cell_type": "code",
   "execution_count": 19,
   "metadata": {},
   "outputs": [
    {
     "name": "stdout",
     "output_type": "stream",
     "text": [
      "Output:/n",
      "/n",
      "/n",
      "Errors (if any):/n",
      "Loading required package: ggplot2/n",
      "Saving 7 x 7 in image/n",
      "/n"
     ]
    }
   ],
   "source": [
    "import subprocess/n",
    "/n",
    "# Path to the R script/n",
    "r_script = 'test.R'/n",
    "/n",
    "# Execute the R script and capture output/n",
    "result = subprocess.run(['Rscript', r_script], capture_output=True, text=True)/n",
    "/n",
    "# Print the output and errors/n",
    "print(/"Output:/")/n",
    "print(result.stdout)/n",
    "/n",
    "print(/"//nErrors (if any):/")/n",
    "print(result.stderr)/n"
   ]
  },
  {
   "cell_type": "code",
   "execution_count": 18,
   "metadata": {},
   "outputs": [
    {
     "data": {
      "text/plain": [
       "b'  [1] -0.64488433  1.62404465 -0.22715631  0.51512063 -0.88157011  0.20092160//n  [7] -0.98952482  1.49213601  0.84175807 -0.92158722  0.20449146  0.77709681//n [13]  0.05120781  0.76775187 -0.12330576 -1.16186849  0.56699908  0.18672575//n [19] -1.42984233  1.26279824  0.83306321  0.44056473 -0.11785825  0.08892285//n [25] -0.54634065  0.74372435  0.52813279 -0.27257609 -1.37361965 -0.14750302//n [31]  1.15619265  0.55287836  0.92671626 -0.87619367  0.21867367 -1.18357276//n [37]  0.57506194  0.26125137 -0.41064505 -1.28272466 -0.65567446 -0.70470253//n [43] -0.58002208  1.69748346  0.27640682 -0.73268503 -0.75851356  0.28682870//n [49] -1.46067102 -0.40568718  2.31397829  1.16172470  0.97384889  0.26373411//n [55]  2.04175862 -1.14383541 -0.66362353 -0.32685125  0.79105227 -0.47507684//n [61]  0.46043941 -0.36323791 -1.54488122  1.37663927  2.00893763 -1.12328645//n [67] -1.90598296  3.07819164 -1.13148703 -1.64066189  0.15468358 -0.52879219//n [73]  1.17502418 -1.43085711 -1.32113773  0.20640166 -0.41652871  2.10335548//n [79]  0.11474597 -1.05223267 -0.73709176 -0.31818155  0.80311823 -0.17255639//n [85] -0.90915521  0.71991317 -1.79336924 -2.49446157  0.05248614 -0.15144428//n [91] -0.86270070  0.55148145 -0.84809630 -0.55440722  0.68179290  0.58394462//n [97] -0.81428166  0.59568263  0.34912171  0.16149935//n'"
      ]
     },
     "execution_count": 18,
     "metadata": {},
     "output_type": "execute_result"
    }
   ],
   "source": [
    "result.stdout"
   ]
  },
  {
   "cell_type": "code",
   "execution_count": null,
   "metadata": {},
   "outputs": [],
   "source": []
  }
 ],
 "metadata": {
  "kernelspec": {
   "display_name": "super_model",
   "language": "python",
   "name": "python3"
  },
  "language_info": {
   "codemirror_mode": {
    "name": "ipython",
    "version": 3
   },
   "file_extension": ".py",
   "mimetype": "text/x-python",
   "name": "python",
   "nbconvert_exporter": "python",
   "pygments_lexer": "ipython3",
   "version": "3.10.14"
  }
 },
 "nbformat": 4,
 "nbformat_minor": 2
}
